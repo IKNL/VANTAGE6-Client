{
 "cells": [
  {
   "cell_type": "code",
   "execution_count": 21,
   "metadata": {},
   "outputs": [],
   "source": [
    "from vantage6.client import Client"
   ]
  },
  {
   "cell_type": "code",
   "execution_count": 134,
   "metadata": {},
   "outputs": [],
   "source": [
    "class NewClient(Client):\n",
    "    \n",
    "    def __init__(self, *args, **kwargs):\n",
    "        super().__init__(*args, **kwargs)\n",
    "        self.use_master_container = False\n",
    "        self.collaboration = None\n",
    "        self.image = None\n",
    "        \n",
    "    def wait_and_collect_results(client, task_id):\n",
    "        task = client.get_task(task_id)\n",
    "        while not task.get(\"complete\"):\n",
    "            task = client.get_task(task_id)\n",
    "            info(\"Waiting for results\")\n",
    "            time.sleep(1)\n",
    "\n",
    "        info(\"Obtaining results\")\n",
    "        results = client.get_results(task_id=task.get(\"id\"))\n",
    "        return results\n",
    "    \n",
    "    def call(self, method, input_, master=False):\n",
    "        assert self.collaboration\n",
    "        assert self.image\n",
    "        pass\n",
    "    \n",
    "    def get_collaboration_nodes(self, collaboration_id=None, fields=None):\n",
    "        col_id = collaboration_id or self.collaboration\n",
    "        assert col_id\n",
    "        res = client.request(f'collaboration/{col_id}/node')\n",
    "        if fields:\n",
    "            return [self._filter_dict(adict, fields) for adict in res]\n",
    "        else:\n",
    "            return res\n",
    "    \n",
    "    def get_my_nodes(self, fields=None):\n",
    "        res = client.request(f'organization/{self.whoami.organization_id}/node')\n",
    "        if fields:\n",
    "            return [self._filter_dict(adict, fields) for adict in res]\n",
    "        else:\n",
    "            return res\n",
    "        \n",
    "    def get_server_version(self):\n",
    "        return client.request('version')\n",
    "    \n",
    "    def get_my_organization(self, fields=None):\n",
    "        res = client.request(f'organization/{self.whoami.organization_id}')\n",
    "        if fields:\n",
    "            return self._filter_dict(res, fields)\n",
    "        else:\n",
    "            return res\n",
    "    \n",
    "    def get_my_collaborations(self, fields=None):\n",
    "        res = client.request(f'organization/{self.whoami.organization_id}/collaboration')\n",
    "        if fields:\n",
    "            return [self._filter_dict(adict, fields) for adict in res]\n",
    "        else:\n",
    "            return res\n",
    "        \n",
    "    def get_my_details(self, fields=None):\n",
    "        res = client.request(f'user/{self.whoami.id_}')\n",
    "        if fields:\n",
    "            return self._filter_dict(res, fields)\n",
    "        else:\n",
    "            return res\n",
    "    \n",
    "    @staticmethod\n",
    "    def _filter_dict(dict_, keys):\n",
    "        return {k:dict_[k] for k in keys if k in dict_}\n",
    "   \n",
    "        \n",
    "    "
   ]
  },
  {
   "cell_type": "code",
   "execution_count": 135,
   "metadata": {},
   "outputs": [],
   "source": [
    "client = NewClient(\"https://trolltunga.vantage6.ai\", 443, \"\")\n",
    "client.authenticate(\"frank@iknl.nl\", \"dude123\")"
   ]
  },
  {
   "cell_type": "code",
   "execution_count": 136,
   "metadata": {},
   "outputs": [],
   "source": [
    "client.setup_encryption(None)"
   ]
  },
  {
   "cell_type": "code",
   "execution_count": 137,
   "metadata": {},
   "outputs": [
    {
     "data": {
      "text/plain": [
       "{'version': '1.2.0'}"
      ]
     },
     "execution_count": 137,
     "metadata": {},
     "output_type": "execute_result"
    }
   ],
   "source": [
    "client.get_server_version()"
   ]
  },
  {
   "cell_type": "code",
   "execution_count": 138,
   "metadata": {},
   "outputs": [
    {
     "data": {
      "text/plain": [
       "[{'id': 2, 'name': 'IKNL-Palga'},\n",
       " {'id': 4, 'name': 'PREDICT'},\n",
       " {'id': 6, 'name': 'JRC'},\n",
       " {'id': 8, 'name': 'IKNL - TCR'},\n",
       " {'id': 10, 'name': 'IKNL-INT-ISS'}]"
      ]
     },
     "execution_count": 138,
     "metadata": {},
     "output_type": "execute_result"
    }
   ],
   "source": [
    "client.get_my_collaborations(('id','name'))"
   ]
  },
  {
   "cell_type": "code",
   "execution_count": 139,
   "metadata": {},
   "outputs": [
    {
     "data": {
      "text/plain": [
       "{'id': 4}"
      ]
     },
     "execution_count": 139,
     "metadata": {},
     "output_type": "execute_result"
    }
   ],
   "source": [
    "client.get_my_organization(('id',))"
   ]
  },
  {
   "cell_type": "code",
   "execution_count": 140,
   "metadata": {},
   "outputs": [
    {
     "data": {
      "text/plain": [
       "{'id': 8, 'username': 'frank@iknl.nl', 'email': 'f.martin@iknl.nl'}"
      ]
     },
     "execution_count": 140,
     "metadata": {},
     "output_type": "execute_result"
    }
   ],
   "source": [
    "client.get_my_details(('id', 'username','email',))"
   ]
  },
  {
   "cell_type": "code",
   "execution_count": 141,
   "metadata": {},
   "outputs": [
    {
     "data": {
      "text/plain": [
       "[{'id': 14, 'name': 'Palga IKNL-palga', 'status': 'offline'},\n",
       " {'id': 13, 'name': 'IKNL IKNL-palga', 'status': 'offline'}]"
      ]
     },
     "execution_count": 141,
     "metadata": {},
     "output_type": "execute_result"
    }
   ],
   "source": [
    "client.get_collaboration_nodes(2, fields=('id', 'name', 'status'))"
   ]
  },
  {
   "cell_type": "code",
   "execution_count": 147,
   "metadata": {},
   "outputs": [
    {
     "data": {
      "text/plain": [
       "[{'id': 13, 'name': 'IKNL IKNL-palga'},\n",
       " {'id': 38, 'name': 'IKNL - INT IKNL node'},\n",
       " {'id': 42, 'name': 'IKNL - JRC Node'},\n",
       " {'id': 35, 'name': 'TCR - IKNL IKNL node'}]"
      ]
     },
     "execution_count": 147,
     "metadata": {},
     "output_type": "execute_result"
    }
   ],
   "source": [
    "client.get_my_nodes(('id','name',))"
   ]
  },
  {
   "cell_type": "code",
   "execution_count": 149,
   "metadata": {},
   "outputs": [
    {
     "data": {
      "text/plain": [
       "[{'ip': '127.0.0.1'},\n",
       " {'ip': '172.17.0.1'},\n",
       " {'ip': '172.17.0.1'},\n",
       " {'ip': '172.17.0.1'}]"
      ]
     },
     "execution_count": 149,
     "metadata": {},
     "output_type": "execute_result"
    }
   ],
   "source": [
    "client.get_my_nodes(('ip',))"
   ]
  }
 ],
 "metadata": {
  "kernelspec": {
   "display_name": "vantage6",
   "language": "python",
   "name": "vantage6"
  },
  "language_info": {
   "codemirror_mode": {
    "name": "ipython",
    "version": 3
   },
   "file_extension": ".py",
   "mimetype": "text/x-python",
   "name": "python",
   "nbconvert_exporter": "python",
   "pygments_lexer": "ipython3",
   "version": "3.7.6"
  }
 },
 "nbformat": 4,
 "nbformat_minor": 4
}
