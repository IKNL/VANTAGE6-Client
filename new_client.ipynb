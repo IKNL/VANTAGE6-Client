{
 "cells": [
  {
   "cell_type": "code",
   "execution_count": 257,
   "metadata": {},
   "outputs": [],
   "source": [
    "import functools\n",
    "from vantage6.client import Client\n",
    "from vantage6.client.filters import post_filtering"
   ]
  },
  {
   "cell_type": "code",
   "execution_count": 258,
   "metadata": {},
   "outputs": [],
   "source": [
    "class NewClient(Client):\n",
    "    \n",
    "    def __init__(self, *args, **kwargs):\n",
    "        super().__init__(*args, **kwargs)\n",
    "        self.use_master_container = False\n",
    "        self.collaboration = None\n",
    "        self.image = None\n",
    "        \n",
    "    def wait_and_collect_results(client, task_id):\n",
    "        task = client.get_task(task_id)\n",
    "        while not task.get(\"complete\"):\n",
    "            task = client.get_task(task_id)\n",
    "            info(\"Waiting for results\")\n",
    "            time.sleep(1)\n",
    "\n",
    "        info(\"Obtaining results\")\n",
    "        results = client.get_results(task_id=task.get(\"id\"))\n",
    "        return results\n",
    "    \n",
    "    def call(self, method, input_, master=False):\n",
    "        assert self.collaboration\n",
    "        assert self.image\n",
    "        pass\n",
    "    \n",
    "    @post_filtering()\n",
    "    def view_collaboration_nodes(self, collaboration_id=None):\n",
    "        col_id = collaboration_id or self.collaboration\n",
    "        assert col_id, \"collaboration id missing\"\n",
    "        return client.request(f'collaboration/{col_id}/node')\n",
    "        \n",
    "    @post_filtering()\n",
    "    def view_my_nodes(self):\n",
    "        return client.request(f'organization/{self.whoami.organization_id}/node')\n",
    "        \n",
    "    def view_server_version(self):\n",
    "        return client.request('version')\n",
    "    \n",
    "    @post_filtering(iterable=False)\n",
    "    def view_my_organization(self):\n",
    "        return client.request(f'organization/{self.whoami.organization_id}')\n",
    "    \n",
    "    @post_filtering()\n",
    "    def view_my_collaborations(self):\n",
    "        return client.request(f'organization/{self.whoami.organization_id}/collaboration')\n",
    "        \n",
    "    @post_filtering(iterable=False)\n",
    "    def view_my_details(self, fields=None):\n",
    "        return client.request(f'user/{self.whoami.id_}')\n",
    "        \n",
    "    @post_filtering()\n",
    "    def view_rules(self, fields=None, filters=None):\n",
    "        return client.request('rule')"
   ]
  },
  {
   "cell_type": "code",
   "execution_count": 259,
   "metadata": {},
   "outputs": [],
   "source": [
    "client = NewClient(\"http://localhost\", 5000, \"/api\")\n",
    "client.authenticate(\"root\", \"root\")"
   ]
  },
  {
   "cell_type": "code",
   "execution_count": 260,
   "metadata": {},
   "outputs": [],
   "source": [
    "client.setup_encryption(None)"
   ]
  },
  {
   "cell_type": "code",
   "execution_count": 261,
   "metadata": {},
   "outputs": [
    {
     "data": {
      "text/plain": [
       "{'version': '2.0.0a1'}"
      ]
     },
     "execution_count": 261,
     "metadata": {},
     "output_type": "execute_result"
    }
   ],
   "source": [
    "client.view_server_version()"
   ]
  },
  {
   "cell_type": "code",
   "execution_count": 262,
   "metadata": {},
   "outputs": [
    {
     "data": {
      "text/plain": [
       "[]"
      ]
     },
     "execution_count": 262,
     "metadata": {},
     "output_type": "execute_result"
    }
   ],
   "source": [
    "client.view_my_collaborations(fields=('id','name'))"
   ]
  },
  {
   "cell_type": "code",
   "execution_count": 263,
   "metadata": {},
   "outputs": [
    {
     "data": {
      "text/plain": [
       "{'id': 4, 'name': 'root'}"
      ]
     },
     "execution_count": 263,
     "metadata": {},
     "output_type": "execute_result"
    }
   ],
   "source": [
    "client.view_my_organization(fields=('id', 'name'))"
   ]
  },
  {
   "cell_type": "code",
   "execution_count": 264,
   "metadata": {},
   "outputs": [
    {
     "data": {
      "text/plain": [
       "{'id': 14,\n",
       " 'username': 'root',\n",
       " 'email': 'root@domain.ext',\n",
       " 'roles': [{'id': 3,\n",
       "   'link': '/api/role/3',\n",
       "   'methods': ['GET', 'PATCH', 'DELETE']}]}"
      ]
     },
     "execution_count": 264,
     "metadata": {},
     "output_type": "execute_result"
    }
   ],
   "source": [
    "client.view_my_details(fields=('id', 'username','email', 'roles'))"
   ]
  },
  {
   "cell_type": "code",
   "execution_count": 265,
   "metadata": {},
   "outputs": [
    {
     "data": {
      "text/plain": [
       "[{'id': 7, 'name': 'IKNL - ZEPPELIN Node', 'status': 'offline'},\n",
       " {'id': 8, 'name': 'Small Organization - ZEPPELIN Node', 'status': 'offline'},\n",
       " {'id': 9, 'name': 'Big Organization - ZEPPELIN Node', 'status': 'offline'}]"
      ]
     },
     "execution_count": 265,
     "metadata": {},
     "output_type": "execute_result"
    }
   ],
   "source": [
    "client.view_collaboration_nodes(1, fields=('id', 'name', 'status'))"
   ]
  },
  {
   "cell_type": "code",
   "execution_count": 266,
   "metadata": {},
   "outputs": [
    {
     "data": {
      "text/plain": [
       "[]"
      ]
     },
     "execution_count": 266,
     "metadata": {},
     "output_type": "execute_result"
    }
   ],
   "source": [
    "client.view_my_nodes(fields=('id','name',))"
   ]
  },
  {
   "cell_type": "code",
   "execution_count": 267,
   "metadata": {},
   "outputs": [
    {
     "data": {
      "text/plain": [
       "[]"
      ]
     },
     "execution_count": 267,
     "metadata": {},
     "output_type": "execute_result"
    }
   ],
   "source": [
    "client.view_my_nodes(fields=('ip','name', 'status'))"
   ]
  },
  {
   "cell_type": "code",
   "execution_count": 268,
   "metadata": {},
   "outputs": [
    {
     "data": {
      "text/plain": [
       "[{'id': 1, 'scope': 'GLOBAL'},\n",
       " {'id': 2, 'scope': 'ORGANIZATION'},\n",
       " {'id': 9, 'scope': 'GLOBAL'},\n",
       " {'id': 10, 'scope': 'ORGANIZATION'},\n",
       " {'id': 14, 'scope': 'GLOBAL'},\n",
       " {'id': 15, 'scope': 'ORGANIZATION'},\n",
       " {'id': 16, 'scope': 'COLLABORATION'},\n",
       " {'id': 20, 'scope': 'GLOBAL'},\n",
       " {'id': 21, 'scope': 'ORGANIZATION'},\n",
       " {'id': 28, 'scope': 'GLOBAL'},\n",
       " {'id': 29, 'scope': 'ORGANIZATION'},\n",
       " {'id': 30, 'scope': 'GLOBAL'},\n",
       " {'id': 31, 'scope': 'ORGANIZATION'},\n",
       " {'id': 32, 'scope': 'OWN'},\n",
       " {'id': 41, 'scope': 'GLOBAL'},\n",
       " {'id': 42, 'scope': 'ORGANIZATION'}]"
      ]
     },
     "execution_count": 268,
     "metadata": {},
     "output_type": "execute_result"
    }
   ],
   "source": [
    "client.view_rules(fields=('id','scope'), filters=(('operation', 'VIEW'),))"
   ]
  },
  {
   "cell_type": "code",
   "execution_count": 276,
   "metadata": {},
   "outputs": [
    {
     "data": {
      "text/plain": [
       "14"
      ]
     },
     "execution_count": 276,
     "metadata": {},
     "output_type": "execute_result"
    }
   ],
   "source": [
    "client.whoami.id_"
   ]
  },
  {
   "cell_type": "code",
   "execution_count": null,
   "metadata": {},
   "outputs": [],
   "source": [
    "@post_filtering\n",
    "def update_my_user(firstname=None, lastname=None, password=None, roles=None, rules=None, organization=None):\n",
    "    id_ = client.whoami.id_\n",
    "    user = client.request(f'user/{client.whoami.id_}', method='patch', json={\n",
    "        \"firstname\": \"New-root\",\n",
    "        \"lastname\": \"Baba\",\n",
    "    })"
   ]
  },
  {
   "cell_type": "code",
   "execution_count": 278,
   "metadata": {},
   "outputs": [
    {
     "data": {
      "text/plain": [
       "{'ip': '127.0.0.1',\n",
       " 'id': 14,\n",
       " 'firstname': 'New-root',\n",
       " 'lastname': 'Baba',\n",
       " 'last_seen': '2021-01-13T15:29:18.270138+00:00',\n",
       " 'organization': {'id': 4,\n",
       "  'link': '/api/organization/4',\n",
       "  'methods': ['PATCH', 'GET']},\n",
       " 'username': 'root',\n",
       " 'rules': None,\n",
       " 'email': 'root@domain.ext',\n",
       " 'status': None,\n",
       " 'roles': [{'id': 3,\n",
       "   'link': '/api/role/3',\n",
       "   'methods': ['GET', 'PATCH', 'DELETE']}],\n",
       " 'type': 'user'}"
      ]
     },
     "execution_count": 278,
     "metadata": {},
     "output_type": "execute_result"
    }
   ],
   "source": [
    "client.request(f'user/{client.whoami.id_}', method='patch', json={\n",
    "    \"firstname\": \"New-root\",\n",
    "    \"lastname\": \"Baba\",\n",
    "})"
   ]
  }
 ],
 "metadata": {
  "kernelspec": {
   "display_name": "vantage6",
   "language": "python",
   "name": "vantage6"
  },
  "language_info": {
   "codemirror_mode": {
    "name": "ipython",
    "version": 3
   },
   "file_extension": ".py",
   "mimetype": "text/x-python",
   "name": "python",
   "nbconvert_exporter": "python",
   "pygments_lexer": "ipython3",
   "version": "3.7.7"
  }
 },
 "nbformat": 4,
 "nbformat_minor": 4
}
